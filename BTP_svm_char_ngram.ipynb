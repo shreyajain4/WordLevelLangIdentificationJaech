{
  "nbformat": 4,
  "nbformat_minor": 0,
  "metadata": {
    "colab": {
      "name": "BTP_svm_char_ngram.ipynb",
      "provenance": [],
      "mount_file_id": "13ejNUYXYYaUV9oZYJVPDlLP9cAMFV_Vk",
      "authorship_tag": "ABX9TyN2LWAEQCtbDbwZ/+CmJj9h",
      "include_colab_link": true
    },
    "kernelspec": {
      "name": "python3",
      "display_name": "Python 3"
    }
  },
  "cells": [
    {
      "cell_type": "markdown",
      "metadata": {
        "id": "view-in-github",
        "colab_type": "text"
      },
      "source": [
        "<a href=\"https://colab.research.google.com/github/shreyajain4/WordLevelLangIdentificationJaech/blob/master/BTP_svm_char_ngram.ipynb\" target=\"_parent\"><img src=\"https://colab.research.google.com/assets/colab-badge.svg\" alt=\"Open In Colab\"/></a>"
      ]
    },
    {
      "cell_type": "code",
      "metadata": {
        "id": "7hNp_7H_L7Vv",
        "colab_type": "code",
        "colab": {}
      },
      "source": [
        "import argparse\n",
        "import collections\n",
        "import json\n",
        "import logging\n",
        "import numpy as np\n",
        "import os\n",
        "import shutil\n",
        "import tensorflow as tf\n",
        "import pandas as pd\n",
        "import itertools\n",
        "import re\n",
        "import pickle\n",
        "import random\n",
        "import matplotlib\n",
        "import csv\n",
        "from sklearn.datasets.samples_generator import make_blobs \n",
        "matplotlib.rc('font', family='DejaVu Sans')\n",
        "from matplotlib import pyplot\n",
        "from nltk import ngrams\n",
        "import numpy as np"
      ],
      "execution_count": 0,
      "outputs": []
    },
    {
      "cell_type": "code",
      "metadata": {
        "id": "P4APsDUNc_Or",
        "colab_type": "code",
        "outputId": "d0356ab1-92b3-44a3-e231-a9cf6a8df334",
        "colab": {
          "base_uri": "https://localhost:8080/",
          "height": 33
        }
      },
      "source": [
        "max_word_len = 13\n",
        "\n",
        "sentences = []\n",
        "words = []\n",
        "labels = []\n",
        "l = []\n",
        "i = 0\n",
        "n=3\n",
        "w = []\n",
        "\n",
        "length = []\n",
        "# with open(\"drive/My Drive/dataset/POS Hindi English Code Mixed Tweets.tsv\") as tsvfile:\n",
        "#     tsvreader = csv.reader(tsvfile, delimiter=\"\\t\")\n",
        "#     for line in tsvreader:\n",
        "#       i = i+1\n",
        "#       if(len(line)==3 and line[1]!='rest'):\n",
        "#         length.append(len(Graphemes(line[0])))\n",
        "# length=np.array(length)\n",
        "# a=np.percentile(length,99.97)\n",
        "all_grams = set()\n",
        "word_unique = dict()\n",
        "with open(\"drive/My Drive/dataset/POS Hindi English Code Mixed Tweets.tsv\") as tsvfile:\n",
        "    tsvreader = csv.reader(tsvfile, delimiter=\"\\t\")\n",
        "    for line in tsvreader:\n",
        "      i = i+1\n",
        "      if (len(line) == 3):\n",
        "        if (len(line)>0 and (line[0]=='0' or line[0]=='')):\n",
        "          words.append(w) \n",
        "          labels.append(l)\n",
        "          \n",
        "          w = []\n",
        "          l = []\n",
        "        elif(line[1]!='rest'):\n",
        "          w.append(line[0])\n",
        "          l.append(line[1])\n",
        "          word_unique[line[0].lower()]=line[1]\n",
        "          word=line[0]\n",
        "          sixgrams = ngrams(list(word.lower()), n)\n",
        "          for grams in sixgrams:\n",
        "            g =  ''.join(grams)\n",
        "            # print (g)\n",
        "            all_grams.add(g)\n",
        "\n",
        "      elif (len(line)==0 or (len(line)>0 and (line[0]=='0' or line[0]==''))):\n",
        "          words.append(w) \n",
        "          labels.append(l)\n",
        "          w = []\n",
        "          l = []\n"
      ],
      "execution_count": 0,
      "outputs": [
        {
          "output_type": "stream",
          "text": [
            "/usr/local/lib/python3.6/dist-packages/ipykernel_launcher.py:39: DeprecationWarning: generator 'ngrams' raised StopIteration\n"
          ],
          "name": "stderr"
        }
      ]
    },
    {
      "cell_type": "code",
      "metadata": {
        "id": "PgiSrcw4mi7C",
        "colab_type": "code",
        "colab": {}
      },
      "source": [
        ""
      ],
      "execution_count": 0,
      "outputs": []
    },
    {
      "cell_type": "code",
      "metadata": {
        "id": "5oFSOpG1kRxa",
        "colab_type": "code",
        "outputId": "5987d648-402e-459e-8816-351408c9fc65",
        "colab": {
          "base_uri": "https://localhost:8080/",
          "height": 33
        }
      },
      "source": [
        "ngram_voc=dict()\n",
        "def vocab():\n",
        "  i=0\n",
        "  for word in all_grams:\n",
        "    ngram_voc[word.lower()]=i\n",
        "    i=i+1\n",
        "vocab()\n",
        "ngram_voc\n",
        "\n",
        "out_vocab=dict()\n",
        "out_vocab['hi']=0\n",
        "out_vocab['en']=1\n",
        "len(ngram_voc)"
      ],
      "execution_count": 0,
      "outputs": [
        {
          "output_type": "execute_result",
          "data": {
            "text/plain": [
              "2875"
            ]
          },
          "metadata": {
            "tags": []
          },
          "execution_count": 3
        }
      ]
    },
    {
      "cell_type": "code",
      "metadata": {
        "id": "CnRleSCbHkaU",
        "colab_type": "code",
        "colab": {}
      },
      "source": [
        ""
      ],
      "execution_count": 0,
      "outputs": []
    },
    {
      "cell_type": "code",
      "metadata": {
        "id": "tC0Y3VzMqF92",
        "colab_type": "code",
        "colab": {}
      },
      "source": [
        "x=np.zeros((len(word_unique),len(ngram_voc)))\n",
        "y=np.zeros((len(word_unique)))"
      ],
      "execution_count": 0,
      "outputs": []
    },
    {
      "cell_type": "code",
      "metadata": {
        "id": "9Sxxr6j2nOTC",
        "colab_type": "code",
        "outputId": "8d1903a2-f858-4ae7-ccdb-c4564f8f683a",
        "colab": {
          "base_uri": "https://localhost:8080/",
          "height": 147
        }
      },
      "source": [
        "i=0\n",
        "ww = []\n",
        "p=[]\n",
        "for w, l in word_unique.items():\n",
        "  word=w\n",
        "  sixgrams = ngrams(list(word.lower()), n)\n",
        "  # if (i<5):\n",
        "  #   print (list(word.lower()))\n",
        "  for grams in sixgrams:\n",
        "    g =  ''.join(grams)\n",
        "    x[i][ngram_voc[g]]=1\n",
        "    if(i==3):\n",
        "      p.append(ngram_voc[g])\n",
        "  if l=='en':\n",
        "    y[i]=1\n",
        "  i=i+1\n",
        "p"
      ],
      "execution_count": 0,
      "outputs": [
        {
          "output_type": "stream",
          "text": [
            "['i', 's']\n",
            "['i', 'n']\n",
            "['c', 'o', 'n', 'f', 'u', 's', 'e', 'd']\n",
            "['s', 't', 'a', 't', 'e']\n",
            "['o', 'f']\n"
          ],
          "name": "stdout"
        },
        {
          "output_type": "stream",
          "text": [
            "/usr/local/lib/python3.6/dist-packages/ipykernel_launcher.py:10: DeprecationWarning: generator 'ngrams' raised StopIteration\n",
            "  # Remove the CWD from sys.path while we load stuff.\n"
          ],
          "name": "stderr"
        },
        {
          "output_type": "execute_result",
          "data": {
            "text/plain": [
              "[2348, 191, 2797]"
            ]
          },
          "metadata": {
            "tags": []
          },
          "execution_count": 8
        }
      ]
    },
    {
      "cell_type": "code",
      "metadata": {
        "id": "0rYergniu-hl",
        "colab_type": "code",
        "colab": {}
      },
      "source": [
        "# word_unique\n"
      ],
      "execution_count": 0,
      "outputs": []
    },
    {
      "cell_type": "code",
      "metadata": {
        "id": "9fSIwiRXuvv4",
        "colab_type": "code",
        "outputId": "fc1d4bed-f9e7-45b1-ae52-c88985a52b98",
        "colab": {
          "base_uri": "https://localhost:8080/",
          "height": 33
        }
      },
      "source": [
        "x[3][662]"
      ],
      "execution_count": 0,
      "outputs": [
        {
          "output_type": "execute_result",
          "data": {
            "text/plain": [
              "0.0"
            ]
          },
          "metadata": {
            "tags": []
          },
          "execution_count": 6
        }
      ]
    },
    {
      "cell_type": "code",
      "metadata": {
        "id": "Lo-ONg2OsVPQ",
        "colab_type": "code",
        "colab": {}
      },
      "source": [
        ""
      ],
      "execution_count": 0,
      "outputs": []
    },
    {
      "cell_type": "code",
      "metadata": {
        "id": "iHykcwK9seLY",
        "colab_type": "code",
        "outputId": "7324b9b2-8c47-45c1-9109-a7fe1a4be9b9",
        "colab": {
          "base_uri": "https://localhost:8080/",
          "height": 33
        }
      },
      "source": [
        "# p=x[0]==np.zeros((1,len(ngram_voc)))\n",
        "# p\n",
        "k=0\n",
        "indeces = []\n",
        "for z in x[0]:\n",
        "  if(z==1):\n",
        "    indeces.append(k)\n",
        "  k = k+1\n",
        "indeces"
      ],
      "execution_count": 0,
      "outputs": [
        {
          "output_type": "execute_result",
          "data": {
            "text/plain": [
              "[]"
            ]
          },
          "metadata": {
            "tags": []
          },
          "execution_count": 7
        }
      ]
    },
    {
      "cell_type": "code",
      "metadata": {
        "id": "CiWmnG8_mIm1",
        "colab_type": "code",
        "colab": {}
      },
      "source": [
        "# X, Y = make_blobs(n_samples=len(word_unique), centers=2, random_state=0, cluster_std=0.40) "
      ],
      "execution_count": 0,
      "outputs": []
    },
    {
      "cell_type": "code",
      "metadata": {
        "id": "iiTs7lOGsT70",
        "colab_type": "code",
        "outputId": "d6286f0a-a297-46b7-d161-b4f2ec2762b2",
        "colab": {
          "base_uri": "https://localhost:8080/",
          "height": 34
        }
      },
      "source": [
        "from sklearn.svm import SVC # \"Support Vector Classifier\" \n",
        "clf = SVC(kernel='linear') \n",
        "len(word_unique)"
      ],
      "execution_count": 0,
      "outputs": [
        {
          "output_type": "execute_result",
          "data": {
            "text/plain": [
              "3113"
            ]
          },
          "metadata": {
            "tags": []
          },
          "execution_count": 21
        }
      ]
    },
    {
      "cell_type": "code",
      "metadata": {
        "id": "gSNDUCSknabq",
        "colab_type": "code",
        "outputId": "abc88bc4-64d0-47f7-924d-a718ba527277",
        "colab": {
          "base_uri": "https://localhost:8080/",
          "height": 85
        }
      },
      "source": [
        "clf.fit(x[0:2700], y[0:2700]) \n"
      ],
      "execution_count": 0,
      "outputs": [
        {
          "output_type": "execute_result",
          "data": {
            "text/plain": [
              "SVC(C=1.0, break_ties=False, cache_size=200, class_weight=None, coef0=0.0,\n",
              "    decision_function_shape='ovr', degree=3, gamma='scale', kernel='linear',\n",
              "    max_iter=-1, probability=False, random_state=None, shrinking=True,\n",
              "    tol=0.001, verbose=False)"
            ]
          },
          "metadata": {
            "tags": []
          },
          "execution_count": 23
        }
      ]
    },
    {
      "cell_type": "code",
      "metadata": {
        "id": "NFk2f0ZDPzgQ",
        "colab_type": "code",
        "outputId": "e957c6f3-1031-4f8c-87e3-8a3b4998ac09",
        "colab": {
          "base_uri": "https://localhost:8080/",
          "height": 34
        }
      },
      "source": [
        "#new_word = np.zeros(1,len(ngram_voc)))\n",
        "clf.score(x[2700:],y[2700:])\n"
      ],
      "execution_count": 0,
      "outputs": [
        {
          "output_type": "execute_result",
          "data": {
            "text/plain": [
              "0.8401937046004843"
            ]
          },
          "metadata": {
            "tags": []
          },
          "execution_count": 24
        }
      ]
    },
    {
      "cell_type": "markdown",
      "metadata": {
        "id": "i3NY5DoomI9K",
        "colab_type": "text"
      },
      "source": [
        ""
      ]
    }
  ]
}