{
  "nbformat": 4,
  "nbformat_minor": 0,
  "metadata": {
    "colab": {
      "name": "BTP_svm_graphemes.ipynb",
      "provenance": [],
      "toc_visible": true,
      "include_colab_link": true
    },
    "kernelspec": {
      "name": "python3",
      "display_name": "Python 3"
    }
  },
  "cells": [
    {
      "cell_type": "markdown",
      "metadata": {
        "id": "view-in-github",
        "colab_type": "text"
      },
      "source": [
        "<a href=\"https://colab.research.google.com/github/shreyajain4/WordLevelLangIdentificationJaech/blob/master/BTP_svm_graphemes.ipynb\" target=\"_parent\"><img src=\"https://colab.research.google.com/assets/colab-badge.svg\" alt=\"Open In Colab\"/></a>"
      ]
    },
    {
      "cell_type": "code",
      "metadata": {
        "id": "7hNp_7H_L7Vv",
        "colab_type": "code",
        "colab": {}
      },
      "source": [
        "import argparse\n",
        "import collections\n",
        "import json\n",
        "import logging\n",
        "import numpy as np\n",
        "import os\n",
        "import shutil\n",
        "import tensorflow as tf\n",
        "import pandas as pd\n",
        "import itertools\n",
        "import re\n",
        "import pickle\n",
        "import random\n",
        "import matplotlib\n",
        "import csv\n",
        "from sklearn.datasets.samples_generator import make_blobs \n",
        "matplotlib.rc('font', family='DejaVu Sans')\n",
        "from matplotlib import pyplot\n",
        "from nltk import ngrams\n",
        "import numpy as np"
      ],
      "execution_count": 0,
      "outputs": []
    },
    {
      "cell_type": "code",
      "metadata": {
        "id": "JkSiJNrbX2eI",
        "colab_type": "code",
        "colab": {}
      },
      "source": [
        "sentences = []\n",
        "words = []\n",
        "labels = []\n",
        "l = []\n",
        "i = 0\n",
        "\n",
        "w = []\n",
        "\n",
        "length = []\n",
        "# with open(\"drive/My Drive/dataset/POS Hindi English Code Mixed Tweets.tsv\") as tsvfile:\n",
        "#     tsvreader = csv.reader(tsvfile, delimiter=\"\\t\")\n",
        "#     for line in tsvreader:\n",
        "#       i = i+1\n",
        "#       if(len(line)==3 and line[1]!='rest'):\n",
        "#         length.append(len(Graphemes(line[0])))\n",
        "# length=np.array(length)\n",
        "# a=np.percentile(length,99.97)\n",
        "with open(\"drive/My Drive/dataset/POS Hindi English Code Mixed Tweets.tsv\") as tsvfile:\n",
        "    tsvreader = csv.reader(tsvfile, delimiter=\"\\t\")\n",
        "    for line in tsvreader:\n",
        "      i = i+1\n",
        "      if (len(line) == 3):\n",
        "        if (len(line)>0 and (line[0]=='0' or line[0]=='')):\n",
        "          words.append(w) \n",
        "          labels.append(l)\n",
        "          w = []\n",
        "          l = []\n",
        "        elif(line[1]!='rest'):\n",
        "          w.append(line[0])\n",
        "          l.append(line[1])\n",
        "      elif (len(line)==0 or (len(line)>0 and (line[0]=='0' or line[0]==''))):\n",
        "          words.append(w) \n",
        "          labels.append(l)\n",
        "          w = []\n",
        "          l = []\n"
      ],
      "execution_count": 0,
      "outputs": []
    },
    {
      "cell_type": "code",
      "metadata": {
        "id": "ZsjuY6FUWuMB",
        "colab_type": "code",
        "colab": {}
      },
      "source": [
        "legal_onsets = set()\n",
        "for line in words:\n",
        "  for w in line:\n",
        "    w = w.lower()\n",
        "    o = \"\"\n",
        "    for char in w:\n",
        "      if (char in 'aeiouy'):\n",
        "        break\n",
        "      o = o + char\n",
        "    legal_onsets.add(o)\n",
        "\n",
        "def is_legal_onset(onset):\n",
        "  if (onset in legal_onsets):\n",
        "    return True\n",
        "  return False     "
      ],
      "execution_count": 0,
      "outputs": []
    },
    {
      "cell_type": "code",
      "metadata": {
        "id": "g3tzX-0CW-uG",
        "colab_type": "code",
        "colab": {}
      },
      "source": [
        "def Graphemes(w):\n",
        "  segmented_word = []\n",
        "  w = w.lower()\n",
        "  o = \"\"\n",
        "  i = 0\n",
        "  vowel_left = 0\n",
        "  for char in w:\n",
        "    if (char in 'aeiouy'):\n",
        "      vowel_left = vowel_left + 1 \n",
        "  for char in w:\n",
        "    if (char in 'aeiouy'):\n",
        "      break\n",
        "    o = o + char\n",
        "    i = i + 1\n",
        "  # onset.append(o)\n",
        "  segmented_word.append(o)\n",
        "  # if (i != 0):\n",
        "    # segmented_word.append(w[:i])\n",
        "    # last_indx = i\n",
        "\n",
        "  while (i  < len(w)):\n",
        "    n = \"\"\n",
        "    while (i  < len(w)) and (w[i] in 'aeiouy'):\n",
        "      vowel_left = vowel_left - 1\n",
        "      n = n + w[i]\n",
        "      i = i + 1\n",
        "    # nucleus.append(n)\n",
        "    segmented_word.append(n)\n",
        "    o = \"\"\n",
        "    c = \"\"\n",
        "    if vowel_left == 0 :\n",
        "      while (i < len(w)):\n",
        "        c = c + w[i]\n",
        "        i = i + 1 \n",
        "    else:\n",
        "      while (i  < len(w)) and (w[i] not in 'aeiouy'):\n",
        "        o = o + w [i]\n",
        "        i = i + 1\n",
        "\n",
        "      # until onset is legal\n",
        "      while (is_legal_onset(o) == False) :\n",
        "        c = c + o[0]\n",
        "        o = o[1:]\n",
        "    if (o != \"\"):\n",
        "      # onset.append(o)\n",
        "      segmented_word.append(o)\n",
        "      # segmented_word.append(w[last_indx:i])\n",
        "      # last_indx = i\n",
        "    if (c != \"\"):\n",
        "      # coda.append(c)\n",
        "      segmented_word.append(c)\n",
        "  return segmented_word\n"
      ],
      "execution_count": 0,
      "outputs": []
    },
    {
      "cell_type": "code",
      "metadata": {
        "id": "P4APsDUNc_Or",
        "colab_type": "code",
        "colab": {}
      },
      "source": [
        "max_word_len = 13\n",
        "\n",
        "sentences = []\n",
        "words = []\n",
        "labels = []\n",
        "l = []\n",
        "i = 0\n",
        "w = []\n",
        "\n",
        "length = []\n",
        "# with open(\"drive/My Drive/dataset/POS Hindi English Code Mixed Tweets.tsv\") as tsvfile:\n",
        "#     tsvreader = csv.reader(tsvfile, delimiter=\"\\t\")\n",
        "#     for line in tsvreader:\n",
        "#       i = i+1\n",
        "#       if(len(line)==3 and line[1]!='rest'):\n",
        "#         length.append(len(Graphemes(line[0])))\n",
        "# length=np.array(length)\n",
        "# a=np.percentile(length,99.97)\n",
        "all_grams = set()\n",
        "word_unique = dict()\n",
        "with open(\"drive/My Drive/dataset/POS Hindi English Code Mixed Tweets.tsv\") as tsvfile:\n",
        "    tsvreader = csv.reader(tsvfile, delimiter=\"\\t\")\n",
        "    for line in tsvreader:\n",
        "      i = i+1\n",
        "      if (len(line) == 3):\n",
        "        if (len(line)>0 and (line[0]=='0' or line[0]=='')):\n",
        "          words.append(w) \n",
        "          labels.append(l)\n",
        "          \n",
        "          w = []\n",
        "          l = []\n",
        "        elif(line[1]!='rest'):\n",
        "          w.append(line[0])\n",
        "          l.append(line[1])\n",
        "          word_unique[line[0].lower()]=line[1]\n",
        "          word=line[0]\n",
        "          sixgrams = Graphemes(line[0].lower())\n",
        "          for grams in sixgrams:\n",
        "            \n",
        "            all_grams.add(grams)\n",
        "\n",
        "      elif (len(line)==0 or (len(line)>0 and (line[0]=='0' or line[0]==''))):\n",
        "          words.append(w) \n",
        "          labels.append(l)\n",
        "          w = []\n",
        "          l = []\n"
      ],
      "execution_count": 0,
      "outputs": []
    },
    {
      "cell_type": "code",
      "metadata": {
        "id": "PgiSrcw4mi7C",
        "colab_type": "code",
        "outputId": "c53fc45e-cc72-4997-887f-85c594a333ad",
        "colab": {
          "base_uri": "https://localhost:8080/",
          "height": 1000
        }
      },
      "source": [
        "all_grams"
      ],
      "execution_count": 0,
      "outputs": [
        {
          "output_type": "execute_result",
          "data": {
            "text/plain": [
              "{'',\n",
              " '\\t',\n",
              " '\\tr',\n",
              " '&',\n",
              " \"'\",\n",
              " \"'d\",\n",
              " \"'ll\",\n",
              " \"'m\",\n",
              " \"'s\",\n",
              " ')',\n",
              " '*',\n",
              " '-',\n",
              " '-j',\n",
              " '-r',\n",
              " '.',\n",
              " '/xn2',\n",
              " '1st',\n",
              " '4',\n",
              " '45',\n",
              " '4g',\n",
              " 'a',\n",
              " 'aa',\n",
              " 'aaa',\n",
              " 'aao',\n",
              " 'aaoo',\n",
              " 'aau',\n",
              " 'aaya',\n",
              " 'aaye',\n",
              " 'aayi',\n",
              " 'aayo',\n",
              " 'ae',\n",
              " 'ai',\n",
              " 'aio',\n",
              " 'aiy',\n",
              " 'aiye',\n",
              " 'aiyya',\n",
              " 'ao',\n",
              " 'au',\n",
              " 'ay',\n",
              " 'aya',\n",
              " 'aye',\n",
              " 'ayee',\n",
              " 'ayei',\n",
              " 'ayi',\n",
              " 'ayya',\n",
              " 'b',\n",
              " 'b4',\n",
              " 'bb',\n",
              " 'bc',\n",
              " 'bd',\n",
              " 'bdd',\n",
              " 'bh',\n",
              " 'bhj',\n",
              " 'bhn',\n",
              " 'bhrn',\n",
              " 'bht',\n",
              " 'bj',\n",
              " 'bk',\n",
              " 'bl',\n",
              " 'bn',\n",
              " 'br',\n",
              " 'brt',\n",
              " 'brtl',\n",
              " 'bs',\n",
              " 'bt',\n",
              " 'btc',\n",
              " 'btw',\n",
              " 'c',\n",
              " 'cc',\n",
              " 'ch',\n",
              " 'ch*t',\n",
              " 'chh',\n",
              " 'chl',\n",
              " 'cht',\n",
              " 'ck',\n",
              " 'cks',\n",
              " 'cl',\n",
              " 'cnd',\n",
              " 'cntr',\n",
              " 'cr',\n",
              " 'cs',\n",
              " 'ct',\n",
              " 'cts',\n",
              " 'cvd',\n",
              " 'd',\n",
              " 'dd',\n",
              " 'ddng',\n",
              " 'df',\n",
              " 'dh',\n",
              " 'dj\\n',\n",
              " 'dm',\n",
              " 'dn',\n",
              " \"dn't\",\n",
              " 'dnt',\n",
              " 'dpnds',\n",
              " 'dr',\n",
              " 'ds',\n",
              " 'e',\n",
              " 'ea',\n",
              " 'eau',\n",
              " 'ee',\n",
              " 'ei',\n",
              " 'eiey',\n",
              " 'eo',\n",
              " 'eu',\n",
              " 'ey',\n",
              " 'eya',\n",
              " 'eye',\n",
              " 'eyo',\n",
              " 'f',\n",
              " 'f-',\n",
              " 'ff',\n",
              " 'fl',\n",
              " 'fng',\n",
              " 'fr',\n",
              " 'frm',\n",
              " 'fs',\n",
              " 'ft',\n",
              " 'g',\n",
              " 'g**d',\n",
              " 'gg',\n",
              " 'gggg',\n",
              " 'gh',\n",
              " 'ghr',\n",
              " 'ght',\n",
              " 'ghts',\n",
              " 'gn',\n",
              " 'gnst',\n",
              " 'gr',\n",
              " 'grt',\n",
              " 'grv',\n",
              " 'gs',\n",
              " 'gt',\n",
              " 'h',\n",
              " 'h-',\n",
              " 'hblgt',\n",
              " 'hd',\n",
              " 'hgqff',\n",
              " 'hm',\n",
              " 'hml',\n",
              " 'hs',\n",
              " 'ht',\n",
              " 'htt',\n",
              " 'https://t.c',\n",
              " 'hv',\n",
              " 'hw',\n",
              " 'i',\n",
              " 'ia',\n",
              " 'ie',\n",
              " 'ii',\n",
              " 'io',\n",
              " 'iou',\n",
              " 'iya',\n",
              " 'iye',\n",
              " 'iyee',\n",
              " 'iyo',\n",
              " 'j',\n",
              " 'jb',\n",
              " 'jh',\n",
              " 'jnt',\n",
              " 'k',\n",
              " 'kb',\n",
              " 'kh',\n",
              " 'khr',\n",
              " 'khs',\n",
              " 'kht',\n",
              " 'khtm',\n",
              " 'kkt',\n",
              " 'kn',\n",
              " 'knw',\n",
              " 'kr',\n",
              " 'krk',\n",
              " 'krl',\n",
              " 'krn',\n",
              " 'krt',\n",
              " 'krw',\n",
              " 'ks',\n",
              " 'kt',\n",
              " 'kts',\n",
              " 'l',\n",
              " 'l/',\n",
              " 'ld',\n",
              " 'ldr',\n",
              " 'lf',\n",
              " 'lg',\n",
              " 'lk',\n",
              " 'lks',\n",
              " 'll',\n",
              " 'll-',\n",
              " 'lls',\n",
              " 'lm',\n",
              " 'lms',\n",
              " 'lng',\n",
              " 'lp',\n",
              " 'lr',\n",
              " 'ls',\n",
              " 'lt',\n",
              " 'lts',\n",
              " 'm',\n",
              " \"m's\",\n",
              " 'mb',\n",
              " 'mbs',\n",
              " 'mj',\n",
              " 'mjh',\n",
              " 'mm',\n",
              " 'mmmmm',\n",
              " 'mn',\n",
              " 'mnds',\n",
              " 'mns',\n",
              " 'mnt',\n",
              " 'mp',\n",
              " 'mps',\n",
              " 'mpt',\n",
              " 'mr',\n",
              " 'ms',\n",
              " 'mst',\n",
              " 'mtlb',\n",
              " 'n',\n",
              " 'n\\t',\n",
              " 'n\\n',\n",
              " \"n'\",\n",
              " \"n's\",\n",
              " \"n't\",\n",
              " 'nc',\n",
              " 'nch',\n",
              " 'nd',\n",
              " 'ndh',\n",
              " 'nds',\n",
              " 'ng',\n",
              " 'ngh',\n",
              " 'ngs',\n",
              " 'ngth',\n",
              " 'nh',\n",
              " 'nk',\n",
              " 'nkh',\n",
              " 'nks',\n",
              " 'nm',\n",
              " 'nn',\n",
              " 'ns',\n",
              " 'nsh',\n",
              " 'nst',\n",
              " 'nstd',\n",
              " 'nt',\n",
              " 'nthng',\n",
              " 'nths',\n",
              " 'nts',\n",
              " 'nw',\n",
              " 'nxt',\n",
              " 'o',\n",
              " 'oa',\n",
              " 'oe',\n",
              " 'oi',\n",
              " 'oo',\n",
              " 'ooooooo',\n",
              " 'oooooooo',\n",
              " 'ou',\n",
              " 'oy',\n",
              " 'oya',\n",
              " 'oye',\n",
              " 'p',\n",
              " 'ph',\n",
              " 'phr',\n",
              " 'pl',\n",
              " 'pls',\n",
              " 'plz',\n",
              " 'plzzzzz',\n",
              " 'pp',\n",
              " 'ppl',\n",
              " 'ppnd',\n",
              " 'pr',\n",
              " 'prc',\n",
              " 'prt',\n",
              " 'ps',\n",
              " 'pt',\n",
              " 'q',\n",
              " 'qt',\n",
              " 'r',\n",
              " 'r\\t',\n",
              " \"r's\",\n",
              " 'r(',\n",
              " 'r/',\n",
              " 'rd',\n",
              " 'rds',\n",
              " 'rf',\n",
              " 'rh',\n",
              " 'rk',\n",
              " 'rld',\n",
              " 'rm',\n",
              " 'rms',\n",
              " 'rn',\n",
              " 'rnd',\n",
              " 'rns',\n",
              " 'rq',\n",
              " 'rr',\n",
              " 'rrrr',\n",
              " 'rs',\n",
              " 'rsrch',\n",
              " 'rst',\n",
              " 'rt',\n",
              " 'rth',\n",
              " 'rts',\n",
              " 's',\n",
              " 's/',\n",
              " 'sb',\n",
              " 'sc',\n",
              " 'sch',\n",
              " 'scr',\n",
              " 'sh',\n",
              " 'shd',\n",
              " 'shr',\n",
              " 'sk',\n",
              " 'skng',\n",
              " 'sks',\n",
              " 'skt',\n",
              " 'sl',\n",
              " 'sm',\n",
              " 'smj',\n",
              " 'sn',\n",
              " \"sn't\",\n",
              " 'snt',\n",
              " 'sp',\n",
              " 'spprt',\n",
              " 'sprtr',\n",
              " 'sr',\n",
              " 'srjm',\n",
              " 'srk',\n",
              " 'ss',\n",
              " \"ss'-\",\n",
              " 'ssss',\n",
              " 'st',\n",
              " 'st\\tx\\n',\n",
              " \"st's\",\n",
              " 'str',\n",
              " 'sts',\n",
              " 'sw',\n",
              " 't',\n",
              " \"t's\",\n",
              " 'tch',\n",
              " 'th',\n",
              " 'thk',\n",
              " 'thn',\n",
              " 'thnkng',\n",
              " 'thnx',\n",
              " 'thr',\n",
              " 'ths',\n",
              " 'tht',\n",
              " 'tk',\n",
              " 'tlb',\n",
              " 'tr',\n",
              " 'ts',\n",
              " 'tt',\n",
              " 'ttck',\n",
              " 'ttn',\n",
              " 'tw',\n",
              " 'tzns',\n",
              " 'u',\n",
              " 'ua',\n",
              " 'uae',\n",
              " 'uay',\n",
              " 'ue',\n",
              " 'ui',\n",
              " 'uie',\n",
              " 'uii',\n",
              " 'uy',\n",
              " 'uye',\n",
              " 'uyi',\n",
              " 'v',\n",
              " \"v't\",\n",
              " 'vd',\n",
              " 'vl',\n",
              " 'vm',\n",
              " 'vn',\n",
              " 'vr',\n",
              " 'vt',\n",
              " 'w',\n",
              " 'wd',\n",
              " 'wh',\n",
              " 'whch',\n",
              " 'whn',\n",
              " 'whr',\n",
              " 'wht',\n",
              " 'wk',\n",
              " 'wl',\n",
              " 'wn',\n",
              " 'wqt',\n",
              " 'wr',\n",
              " 'wrng',\n",
              " 'ws',\n",
              " 'wt',\n",
              " 'wth',\n",
              " 'x',\n",
              " 'xt',\n",
              " 'y',\n",
              " 'ya',\n",
              " 'yaa',\n",
              " 'yaaa',\n",
              " 'ye',\n",
              " 'yi',\n",
              " 'yo',\n",
              " 'you',\n",
              " 'yu',\n",
              " 'z',\n",
              " 'zz'}"
            ]
          },
          "metadata": {
            "tags": []
          },
          "execution_count": 16
        }
      ]
    },
    {
      "cell_type": "code",
      "metadata": {
        "id": "7i4i1K0cXbAI",
        "colab_type": "code",
        "outputId": "26d76113-826b-4adb-da1d-5dc056a5a337",
        "colab": {
          "base_uri": "https://localhost:8080/",
          "height": 122
        }
      },
      "source": [
        "from google.colab import drive\n",
        "drive.mount('/content/drive')"
      ],
      "execution_count": 0,
      "outputs": [
        {
          "output_type": "stream",
          "text": [
            "Go to this URL in a browser: https://accounts.google.com/o/oauth2/auth?client_id=947318989803-6bn6qk8qdgf4n4g3pfee6491hc0brc4i.apps.googleusercontent.com&redirect_uri=urn%3aietf%3awg%3aoauth%3a2.0%3aoob&response_type=code&scope=email%20https%3a%2f%2fwww.googleapis.com%2fauth%2fdocs.test%20https%3a%2f%2fwww.googleapis.com%2fauth%2fdrive%20https%3a%2f%2fwww.googleapis.com%2fauth%2fdrive.photos.readonly%20https%3a%2f%2fwww.googleapis.com%2fauth%2fpeopleapi.readonly\n",
            "\n",
            "Enter your authorization code:\n",
            "··········\n",
            "Mounted at /content/drive\n"
          ],
          "name": "stdout"
        }
      ]
    },
    {
      "cell_type": "code",
      "metadata": {
        "id": "5oFSOpG1kRxa",
        "colab_type": "code",
        "outputId": "4bf8b4e8-2f4d-4cf8-c5e5-8672317a94f1",
        "colab": {
          "base_uri": "https://localhost:8080/",
          "height": 34
        }
      },
      "source": [
        "ngram_voc=dict()\n",
        "def vocab():\n",
        "  i=0\n",
        "  for word in all_grams:\n",
        "    ngram_voc[word.lower()]=i\n",
        "    i=i+1\n",
        "vocab()\n",
        "ngram_voc\n",
        "\n",
        "out_vocab=dict()\n",
        "out_vocab['hi']=0\n",
        "out_vocab['en']=1\n",
        "len(ngram_voc)"
      ],
      "execution_count": 0,
      "outputs": [
        {
          "output_type": "execute_result",
          "data": {
            "text/plain": [
              "403"
            ]
          },
          "metadata": {
            "tags": []
          },
          "execution_count": 17
        }
      ]
    },
    {
      "cell_type": "code",
      "metadata": {
        "id": "CnRleSCbHkaU",
        "colab_type": "code",
        "outputId": "9955ab6d-8e44-4a1d-c732-f5154dc7ac35",
        "colab": {
          "base_uri": "https://localhost:8080/",
          "height": 33
        }
      },
      "source": [
        "len(ngram_voc)"
      ],
      "execution_count": 0,
      "outputs": [
        {
          "output_type": "execute_result",
          "data": {
            "text/plain": [
              "403"
            ]
          },
          "metadata": {
            "tags": []
          },
          "execution_count": 34
        }
      ]
    },
    {
      "cell_type": "code",
      "metadata": {
        "id": "tC0Y3VzMqF92",
        "colab_type": "code",
        "colab": {}
      },
      "source": [
        "x=np.zeros((len(word_unique),len(ngram_voc)))\n",
        "y=np.zeros((len(word_unique)))"
      ],
      "execution_count": 0,
      "outputs": []
    },
    {
      "cell_type": "code",
      "metadata": {
        "id": "9Sxxr6j2nOTC",
        "colab_type": "code",
        "outputId": "2bbc2bbe-4dfd-4382-b77c-a1f8fe40cf2c",
        "colab": {
          "base_uri": "https://localhost:8080/",
          "height": 34
        }
      },
      "source": [
        "i=0\n",
        "ww = []\n",
        "p=[]\n",
        "for w, l in word_unique.items():\n",
        "  word=w\n",
        "  sixgrams = Graphemes(w)\n",
        "  # if (i<5):\n",
        "  #   print (list(word.lower()))\n",
        "  for grams in sixgrams:\n",
        "    \n",
        "    x[i][ngram_voc[grams]]=1\n",
        "    if(i==3):\n",
        "      p.append(ngram_voc[grams])\n",
        "  if l=='en':\n",
        "    y[i]=1\n",
        "  i=i+1\n",
        "p"
      ],
      "execution_count": 0,
      "outputs": [
        {
          "output_type": "execute_result",
          "data": {
            "text/plain": [
              "[96, 187, 386, 192]"
            ]
          },
          "metadata": {
            "tags": []
          },
          "execution_count": 21
        }
      ]
    },
    {
      "cell_type": "code",
      "metadata": {
        "id": "0rYergniu-hl",
        "colab_type": "code",
        "colab": {}
      },
      "source": [
        "# word_unique\n"
      ],
      "execution_count": 0,
      "outputs": []
    },
    {
      "cell_type": "code",
      "metadata": {
        "id": "9fSIwiRXuvv4",
        "colab_type": "code",
        "outputId": "3a14a40f-998d-43a2-f0c8-303dfe56b5ae",
        "colab": {
          "base_uri": "https://localhost:8080/",
          "height": 34
        }
      },
      "source": [
        "x[3][97]"
      ],
      "execution_count": 0,
      "outputs": [
        {
          "output_type": "execute_result",
          "data": {
            "text/plain": [
              "0.0"
            ]
          },
          "metadata": {
            "tags": []
          },
          "execution_count": 24
        }
      ]
    },
    {
      "cell_type": "code",
      "metadata": {
        "id": "Lo-ONg2OsVPQ",
        "colab_type": "code",
        "colab": {}
      },
      "source": [
        ""
      ],
      "execution_count": 0,
      "outputs": []
    },
    {
      "cell_type": "code",
      "metadata": {
        "id": "iHykcwK9seLY",
        "colab_type": "code",
        "outputId": "7324b9b2-8c47-45c1-9109-a7fe1a4be9b9",
        "colab": {
          "base_uri": "https://localhost:8080/",
          "height": 33
        }
      },
      "source": [
        "# p=x[0]==np.zeros((1,len(ngram_voc)))\n",
        "# p\n",
        "k=0\n",
        "indeces = []\n",
        "for z in x[0]:\n",
        "  if(z==1):\n",
        "    indeces.append(k)\n",
        "  k = k+1\n",
        "indeces"
      ],
      "execution_count": 0,
      "outputs": [
        {
          "output_type": "execute_result",
          "data": {
            "text/plain": [
              "[]"
            ]
          },
          "metadata": {
            "tags": []
          },
          "execution_count": 7
        }
      ]
    },
    {
      "cell_type": "code",
      "metadata": {
        "id": "CiWmnG8_mIm1",
        "colab_type": "code",
        "colab": {}
      },
      "source": [
        "# X, Y = make_blobs(n_samples=len(word_unique), centers=2, random_state=0, cluster_std=0.40) "
      ],
      "execution_count": 0,
      "outputs": []
    },
    {
      "cell_type": "code",
      "metadata": {
        "id": "iiTs7lOGsT70",
        "colab_type": "code",
        "outputId": "2b9f0e32-e35a-44eb-8adc-d67e7f877d05",
        "colab": {
          "base_uri": "https://localhost:8080/",
          "height": 34
        }
      },
      "source": [
        "from sklearn.svm import SVC # \"Support Vector Classifier\" \n",
        "clf = SVC(kernel='linear') \n",
        "len(word_unique)"
      ],
      "execution_count": 0,
      "outputs": [
        {
          "output_type": "execute_result",
          "data": {
            "text/plain": [
              "3113"
            ]
          },
          "metadata": {
            "tags": []
          },
          "execution_count": 31
        }
      ]
    },
    {
      "cell_type": "code",
      "metadata": {
        "id": "gSNDUCSknabq",
        "colab_type": "code",
        "outputId": "2079ecb6-b93e-4e9c-e2f4-eb2b1633046f",
        "colab": {
          "base_uri": "https://localhost:8080/",
          "height": 85
        }
      },
      "source": [
        "clf.fit(x[0:2700], y[0:2700]) \n"
      ],
      "execution_count": 0,
      "outputs": [
        {
          "output_type": "execute_result",
          "data": {
            "text/plain": [
              "SVC(C=1.0, break_ties=False, cache_size=200, class_weight=None, coef0=0.0,\n",
              "    decision_function_shape='ovr', degree=3, gamma='scale', kernel='linear',\n",
              "    max_iter=-1, probability=False, random_state=None, shrinking=True,\n",
              "    tol=0.001, verbose=False)"
            ]
          },
          "metadata": {
            "tags": []
          },
          "execution_count": 32
        }
      ]
    },
    {
      "cell_type": "code",
      "metadata": {
        "id": "NFk2f0ZDPzgQ",
        "colab_type": "code",
        "outputId": "49f945ee-ac63-4843-d324-829c5f427b2f",
        "colab": {
          "base_uri": "https://localhost:8080/",
          "height": 34
        }
      },
      "source": [
        "#new_word = np.zeros(1,len(ngram_voc)))\n",
        "clf.score(x[2700:],y[2700:])\n"
      ],
      "execution_count": 0,
      "outputs": [
        {
          "output_type": "execute_result",
          "data": {
            "text/plain": [
              "0.8208232445520581"
            ]
          },
          "metadata": {
            "tags": []
          },
          "execution_count": 33
        }
      ]
    },
    {
      "cell_type": "markdown",
      "metadata": {
        "id": "i3NY5DoomI9K",
        "colab_type": "text"
      },
      "source": [
        ""
      ]
    }
  ]
}